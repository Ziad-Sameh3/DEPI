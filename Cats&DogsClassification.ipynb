{
 "cells": [
  {
   "cell_type": "code",
   "execution_count": 1,
   "id": "068f5bda",
   "metadata": {},
   "outputs": [],
   "source": [
    "import matplotlib.pyplot as plt\n",
    "import numpy as np\n",
    "import cv2\n",
    "import os\n",
    "import PIL\n",
    "import tensorflow as tf\n",
    "\n",
    "from tensorflow import keras\n",
    "from tensorflow.keras import layers\n",
    "from tensorflow.keras.models import Sequential\n",
    "from PIL import Image"
   ]
  },
  {
   "cell_type": "code",
   "execution_count": 2,
   "id": "df7d6735",
   "metadata": {},
   "outputs": [],
   "source": [
    "image_directory = r'C:/Users/Ziad Sameh/Desktop/DEPI/New folder/test_set'\n",
    "SIZE = 150\n",
    "dataset = []\n",
    "label = []"
   ]
  },
  {
   "cell_type": "code",
   "execution_count": 3,
   "id": "0efa596d",
   "metadata": {},
   "outputs": [],
   "source": [
    "cat_images = os.listdir(image_directory + '/cats/') # Added a backslash (/) after train.\n",
    "for i, image_name in enumerate(cat_images):\n",
    "\n",
    "\n",
    "        image = cv2.imread(image_directory + '/cats/' + image_name) # Added a backslash (/) after train.\n",
    "        image = Image.fromarray(image, 'RGB')\n",
    "        image = image.resize((SIZE, SIZE))\n",
    "        dataset.append(np.array(image))\n",
    "        label.append(0)"
   ]
  },
  {
   "cell_type": "code",
   "execution_count": 4,
   "id": "31ce3095",
   "metadata": {},
   "outputs": [],
   "source": [
    "dog_images = os.listdir(image_directory + '/dogs/') # Added a backslash (/) after train.\n",
    "for i, image_name in enumerate(dog_images):\n",
    "\n",
    "\n",
    "        image = cv2.imread(image_directory + '/dogs/' + image_name) # Added a backslash (/) after train.\n",
    "        image = Image.fromarray(image, 'RGB')\n",
    "        image = image.resize((SIZE, SIZE))\n",
    "        dataset.append(np.array(image))\n",
    "        label.append(1)"
   ]
  },
  {
   "cell_type": "code",
   "execution_count": 5,
   "id": "e5745195",
   "metadata": {},
   "outputs": [],
   "source": [
    "dataset = np.array(dataset)\n",
    "label = np.array(label)"
   ]
  },
  {
   "cell_type": "code",
   "execution_count": 6,
   "id": "1a9151a5",
   "metadata": {},
   "outputs": [],
   "source": [
    "from sklearn.model_selection import train_test_split\n",
    "\n",
    "\n",
    "X, X_test, y, y_test = train_test_split(dataset, label, test_size = 0.20, random_state = 0)"
   ]
  },
  {
   "cell_type": "code",
   "execution_count": 8,
   "id": "0e4cc11a",
   "metadata": {},
   "outputs": [],
   "source": [
    "X_train, X_valid, y_train, y_valid = train_test_split(X, y,test_size=0.2)"
   ]
  },
  {
   "cell_type": "code",
   "execution_count": 27,
   "id": "1dcc50d4",
   "metadata": {},
   "outputs": [
    {
     "data": {
      "text/plain": [
       "((1294, 150, 150, 3),\n",
       " (1294,),\n",
       " (324, 150, 150, 3),\n",
       " (324,),\n",
       " (405, 150, 150, 3),\n",
       " (405,))"
      ]
     },
     "execution_count": 27,
     "metadata": {},
     "output_type": "execute_result"
    }
   ],
   "source": [
    "X_train.shape, y_train.shape, X_valid.shape, y_valid.shape, X_test.shape, y_test.shape"
   ]
  },
  {
   "cell_type": "code",
   "execution_count": 11,
   "id": "fa39c92e",
   "metadata": {},
   "outputs": [],
   "source": [
    "X_train_scaled = X_train / 255\n",
    "X_valid_scaled = X_valid / 255\n",
    "X_test_scaled = X_test / 255"
   ]
  },
  {
   "cell_type": "code",
   "execution_count": 12,
   "id": "3a64abea",
   "metadata": {},
   "outputs": [
    {
     "data": {
      "text/plain": [
       "array([0.27058824, 0.30588235, 0.32156863])"
      ]
     },
     "execution_count": 12,
     "metadata": {},
     "output_type": "execute_result"
    }
   ],
   "source": [
    "X_train_scaled[0][0][0]"
   ]
  },
  {
   "cell_type": "code",
   "execution_count": 14,
   "id": "181ad2d9",
   "metadata": {},
   "outputs": [],
   "source": [
    "num_classes = 1\n",
    "\n",
    "model = Sequential([\n",
    "  layers.Conv2D(64, 3, padding='same', activation='relu'),\n",
    "  layers.MaxPooling2D(),\n",
    "  layers.Conv2D(32, 3, padding='same', activation='relu'),\n",
    "  layers.MaxPooling2D(),\n",
    "  layers.Conv2D(128, 3, padding='same', activation='relu'),\n",
    "  layers.MaxPooling2D(),\n",
    "  layers.Flatten(),\n",
    "  layers.Dense(128, activation='relu'),\n",
    "  layers.Dense(num_classes,activation='sigmoid')\n",
    "])\n",
    "\n",
    "model.compile(optimizer='adam',\n",
    "              loss='binary_crossentropy',\n",
    "              metrics=['accuracy'])\n"
   ]
  },
  {
   "cell_type": "code",
   "execution_count": 16,
   "id": "85ce3b3a",
   "metadata": {},
   "outputs": [
    {
     "name": "stdout",
     "output_type": "stream",
     "text": [
      "Epoch 1/25\n",
      "\u001b[1m41/41\u001b[0m \u001b[32m━━━━━━━━━━━━━━━━━━━━\u001b[0m\u001b[37m\u001b[0m \u001b[1m36s\u001b[0m 661ms/step - accuracy: 0.5225 - loss: 0.7923 - val_accuracy: 0.6481 - val_loss: 0.6787\n",
      "Epoch 2/25\n",
      "\u001b[1m41/41\u001b[0m \u001b[32m━━━━━━━━━━━━━━━━━━━━\u001b[0m\u001b[37m\u001b[0m \u001b[1m28s\u001b[0m 680ms/step - accuracy: 0.6065 - loss: 0.6698 - val_accuracy: 0.5617 - val_loss: 0.6801\n",
      "Epoch 3/25\n",
      "\u001b[1m41/41\u001b[0m \u001b[32m━━━━━━━━━━━━━━━━━━━━\u001b[0m\u001b[37m\u001b[0m \u001b[1m27s\u001b[0m 667ms/step - accuracy: 0.6259 - loss: 0.6558 - val_accuracy: 0.5772 - val_loss: 0.6714\n",
      "Epoch 4/25\n",
      "\u001b[1m41/41\u001b[0m \u001b[32m━━━━━━━━━━━━━━━━━━━━\u001b[0m\u001b[37m\u001b[0m \u001b[1m28s\u001b[0m 671ms/step - accuracy: 0.6561 - loss: 0.6319 - val_accuracy: 0.5741 - val_loss: 0.6603\n",
      "Epoch 5/25\n",
      "\u001b[1m41/41\u001b[0m \u001b[32m━━━━━━━━━━━━━━━━━━━━\u001b[0m\u001b[37m\u001b[0m \u001b[1m26s\u001b[0m 626ms/step - accuracy: 0.6907 - loss: 0.5832 - val_accuracy: 0.5926 - val_loss: 0.6971\n",
      "Epoch 6/25\n",
      "\u001b[1m41/41\u001b[0m \u001b[32m━━━━━━━━━━━━━━━━━━━━\u001b[0m\u001b[37m\u001b[0m \u001b[1m27s\u001b[0m 652ms/step - accuracy: 0.7452 - loss: 0.5272 - val_accuracy: 0.6327 - val_loss: 0.6499\n",
      "Epoch 7/25\n",
      "\u001b[1m41/41\u001b[0m \u001b[32m━━━━━━━━━━━━━━━━━━━━\u001b[0m\u001b[37m\u001b[0m \u001b[1m30s\u001b[0m 729ms/step - accuracy: 0.7964 - loss: 0.4587 - val_accuracy: 0.6327 - val_loss: 0.7357\n",
      "Epoch 8/25\n",
      "\u001b[1m41/41\u001b[0m \u001b[32m━━━━━━━━━━━━━━━━━━━━\u001b[0m\u001b[37m\u001b[0m \u001b[1m27s\u001b[0m 665ms/step - accuracy: 0.8399 - loss: 0.3703 - val_accuracy: 0.6389 - val_loss: 0.8938\n",
      "Epoch 9/25\n",
      "\u001b[1m41/41\u001b[0m \u001b[32m━━━━━━━━━━━━━━━━━━━━\u001b[0m\u001b[37m\u001b[0m \u001b[1m26s\u001b[0m 645ms/step - accuracy: 0.9061 - loss: 0.2345 - val_accuracy: 0.6142 - val_loss: 1.1392\n",
      "Epoch 10/25\n",
      "\u001b[1m41/41\u001b[0m \u001b[32m━━━━━━━━━━━━━━━━━━━━\u001b[0m\u001b[37m\u001b[0m \u001b[1m26s\u001b[0m 621ms/step - accuracy: 0.9595 - loss: 0.1303 - val_accuracy: 0.6235 - val_loss: 1.2205\n",
      "Epoch 11/25\n",
      "\u001b[1m41/41\u001b[0m \u001b[32m━━━━━━━━━━━━━━━━━━━━\u001b[0m\u001b[37m\u001b[0m \u001b[1m25s\u001b[0m 619ms/step - accuracy: 0.9797 - loss: 0.0731 - val_accuracy: 0.6173 - val_loss: 1.3699\n",
      "Epoch 12/25\n",
      "\u001b[1m41/41\u001b[0m \u001b[32m━━━━━━━━━━━━━━━━━━━━\u001b[0m\u001b[37m\u001b[0m \u001b[1m25s\u001b[0m 609ms/step - accuracy: 0.9939 - loss: 0.0356 - val_accuracy: 0.6235 - val_loss: 1.9610\n",
      "Epoch 13/25\n",
      "\u001b[1m41/41\u001b[0m \u001b[32m━━━━━━━━━━━━━━━━━━━━\u001b[0m\u001b[37m\u001b[0m \u001b[1m25s\u001b[0m 598ms/step - accuracy: 0.9958 - loss: 0.0200 - val_accuracy: 0.6327 - val_loss: 2.1367\n",
      "Epoch 14/25\n",
      "\u001b[1m41/41\u001b[0m \u001b[32m━━━━━━━━━━━━━━━━━━━━\u001b[0m\u001b[37m\u001b[0m \u001b[1m26s\u001b[0m 643ms/step - accuracy: 0.9999 - loss: 0.0070 - val_accuracy: 0.6173 - val_loss: 2.4151\n",
      "Epoch 15/25\n",
      "\u001b[1m41/41\u001b[0m \u001b[32m━━━━━━━━━━━━━━━━━━━━\u001b[0m\u001b[37m\u001b[0m \u001b[1m26s\u001b[0m 622ms/step - accuracy: 0.9996 - loss: 0.0027 - val_accuracy: 0.6235 - val_loss: 2.6349\n",
      "Epoch 16/25\n",
      "\u001b[1m41/41\u001b[0m \u001b[32m━━━━━━━━━━━━━━━━━━━━\u001b[0m\u001b[37m\u001b[0m \u001b[1m25s\u001b[0m 598ms/step - accuracy: 0.9992 - loss: 0.0016 - val_accuracy: 0.6173 - val_loss: 2.8164\n",
      "Epoch 17/25\n",
      "\u001b[1m41/41\u001b[0m \u001b[32m━━━━━━━━━━━━━━━━━━━━\u001b[0m\u001b[37m\u001b[0m \u001b[1m28s\u001b[0m 682ms/step - accuracy: 0.9968 - loss: 0.0030 - val_accuracy: 0.6204 - val_loss: 2.9184\n",
      "Epoch 18/25\n",
      "\u001b[1m41/41\u001b[0m \u001b[32m━━━━━━━━━━━━━━━━━━━━\u001b[0m\u001b[37m\u001b[0m \u001b[1m31s\u001b[0m 753ms/step - accuracy: 0.9979 - loss: 0.0020 - val_accuracy: 0.6142 - val_loss: 3.0022\n",
      "Epoch 19/25\n",
      "\u001b[1m41/41\u001b[0m \u001b[32m━━━━━━━━━━━━━━━━━━━━\u001b[0m\u001b[37m\u001b[0m \u001b[1m32s\u001b[0m 778ms/step - accuracy: 0.9989 - loss: 0.0012 - val_accuracy: 0.6111 - val_loss: 3.0464\n",
      "Epoch 20/25\n",
      "\u001b[1m41/41\u001b[0m \u001b[32m━━━━━━━━━━━━━━━━━━━━\u001b[0m\u001b[37m\u001b[0m \u001b[1m27s\u001b[0m 657ms/step - accuracy: 0.9999 - loss: 3.9837e-04 - val_accuracy: 0.6235 - val_loss: 3.1144\n",
      "Epoch 21/25\n",
      "\u001b[1m41/41\u001b[0m \u001b[32m━━━━━━━━━━━━━━━━━━━━\u001b[0m\u001b[37m\u001b[0m \u001b[1m31s\u001b[0m 750ms/step - accuracy: 0.9985 - loss: 0.0014 - val_accuracy: 0.6235 - val_loss: 3.1754\n",
      "Epoch 22/25\n",
      "\u001b[1m41/41\u001b[0m \u001b[32m━━━━━━━━━━━━━━━━━━━━\u001b[0m\u001b[37m\u001b[0m \u001b[1m28s\u001b[0m 677ms/step - accuracy: 0.9992 - loss: 8.0914e-04 - val_accuracy: 0.6142 - val_loss: 3.2200\n",
      "Epoch 23/25\n",
      "\u001b[1m41/41\u001b[0m \u001b[32m━━━━━━━━━━━━━━━━━━━━\u001b[0m\u001b[37m\u001b[0m \u001b[1m28s\u001b[0m 684ms/step - accuracy: 0.9987 - loss: 0.0011 - val_accuracy: 0.6173 - val_loss: 3.2668\n",
      "Epoch 24/25\n",
      "\u001b[1m41/41\u001b[0m \u001b[32m━━━━━━━━━━━━━━━━━━━━\u001b[0m\u001b[37m\u001b[0m \u001b[1m28s\u001b[0m 681ms/step - accuracy: 1.0000 - loss: 3.5019e-04 - val_accuracy: 0.6204 - val_loss: 3.3281\n",
      "Epoch 25/25\n",
      "\u001b[1m41/41\u001b[0m \u001b[32m━━━━━━━━━━━━━━━━━━━━\u001b[0m\u001b[37m\u001b[0m \u001b[1m28s\u001b[0m 671ms/step - accuracy: 1.0000 - loss: 3.1778e-04 - val_accuracy: 0.6235 - val_loss: 3.3753\n"
     ]
    }
   ],
   "source": [
    "history = model.fit(X_train_scaled, y_train, epochs=25\n",
    "                     ,validation_data=(X_valid_scaled, y_valid))"
   ]
  },
  {
   "cell_type": "code",
   "execution_count": 17,
   "id": "1a6b0184",
   "metadata": {},
   "outputs": [
    {
     "data": {
      "image/png": "[encoded data removed]",
      "text/plain": [
       "<Figure size 400x200 with 1 Axes>"
      ]
     },
     "metadata": {},
     "output_type": "display_data"
    }
   ],
   "source": [
    "import pandas as pd\n",
    "import matplotlib.pyplot as plt\n",
    "df= pd.DataFrame(history.history)\n",
    "ind=[1,3]\n",
    "df.iloc[:,ind].plot(figsize=(4, 2))\n",
    "\n",
    "plt.show()"
   ]
  },
  {
   "cell_type": "code",
   "execution_count": 18,
   "id": "f0b2d8b0",
   "metadata": {},
   "outputs": [
    {
     "data": {
      "image/png": "[encoded data removed]",
      "text/plain": [
       "<Figure size 800x500 with 1 Axes>"
      ]
     },
     "metadata": {},
     "output_type": "display_data"
    }
   ],
   "source": [
    "df= pd.DataFrame(history.history)\n",
    "ind=[1,3]\n",
    "df.iloc[:,ind].plot(figsize=(8, 5))\n",
    "plt.title('Model Accuracy')\n",
    " # Set x-ticks to be the epoch numbers\n",
    "plt.ylim(0, 1)  # Set y-limits from 0 to 1\n",
    "plt.legend()\n",
    "plt.grid()\n",
    "plt.show()"
   ]
  },
  {
   "cell_type": "code",
   "execution_count": 20,
   "id": "67663571",
   "metadata": {},
   "outputs": [
    {
     "name": "stdout",
     "output_type": "stream",
     "text": [
      "\u001b[1m13/13\u001b[0m \u001b[32m━━━━━━━━━━━━━━━━━━━━\u001b[0m\u001b[37m\u001b[0m \u001b[1m3s\u001b[0m 187ms/step - accuracy: 0.6246 - loss: 743.3960\n"
     ]
    },
    {
     "data": {
      "text/plain": [
       "[692.6161499023438, 0.644444465637207]"
      ]
     },
     "execution_count": 20,
     "metadata": {},
     "output_type": "execute_result"
    }
   ],
   "source": [
    "model.evaluate(X_test, y_test)"
   ]
  },
  {
   "cell_type": "markdown",
   "id": "e49840cc",
   "metadata": {},
   "source": [
    "## With Earlystopping"
   ]
  },
  {
   "cell_type": "code",
   "execution_count": 21,
   "id": "9bd80336",
   "metadata": {},
   "outputs": [],
   "source": [
    "model1 = Sequential([\n",
    "  layers.Conv2D(64, 3, padding='same', activation='relu'),\n",
    "  layers.MaxPooling2D(),\n",
    "  layers.Conv2D(32, 3, padding='same', activation='relu'),\n",
    "  layers.MaxPooling2D(),\n",
    "  layers.Conv2D(128, 3, padding='same', activation='relu'),\n",
    "  layers.MaxPooling2D(),\n",
    "  layers.Flatten(),\n",
    "  layers.Dense(128, activation='relu'),\n",
    "  layers.Dense(num_classes,activation='sigmoid')\n",
    "])\n",
    "\n",
    "model1.compile(optimizer='adam',\n",
    "              loss='binary_crossentropy',\n",
    "              metrics=['accuracy'])"
   ]
  },
  {
   "cell_type": "code",
   "execution_count": 22,
   "id": "fb72efea",
   "metadata": {},
   "outputs": [
    {
     "name": "stdout",
     "output_type": "stream",
     "text": [
      "Epoch 1/25\n",
      "\u001b[1m41/41\u001b[0m \u001b[32m━━━━━━━━━━━━━━━━━━━━\u001b[0m\u001b[37m\u001b[0m \u001b[1m35s\u001b[0m 656ms/step - accuracy: 0.4849 - loss: 0.7655 - val_accuracy: 0.4660 - val_loss: 0.6933\n",
      "Epoch 2/25\n",
      "\u001b[1m41/41\u001b[0m \u001b[32m━━━━━━━━━━━━━━━━━━━━\u001b[0m\u001b[37m\u001b[0m \u001b[1m26s\u001b[0m 623ms/step - accuracy: 0.5078 - loss: 0.6931 - val_accuracy: 0.4660 - val_loss: 0.6933\n",
      "Epoch 3/25\n",
      "\u001b[1m41/41\u001b[0m \u001b[32m━━━━━━━━━━━━━━━━━━━━\u001b[0m\u001b[37m\u001b[0m \u001b[1m25s\u001b[0m 607ms/step - accuracy: 0.5104 - loss: 0.6931 - val_accuracy: 0.4660 - val_loss: 0.6933\n",
      "Epoch 4/25\n",
      "\u001b[1m41/41\u001b[0m \u001b[32m━━━━━━━━━━━━━━━━━━━━\u001b[0m\u001b[37m\u001b[0m \u001b[1m27s\u001b[0m 657ms/step - accuracy: 0.4823 - loss: 0.6933 - val_accuracy: 0.4660 - val_loss: 0.6933\n",
      "Epoch 5/25\n",
      "\u001b[1m41/41\u001b[0m \u001b[32m━━━━━━━━━━━━━━━━━━━━\u001b[0m\u001b[37m\u001b[0m \u001b[1m25s\u001b[0m 612ms/step - accuracy: 0.5095 - loss: 0.6931 - val_accuracy: 0.4660 - val_loss: 0.6934\n"
     ]
    }
   ],
   "source": [
    "callback = tf.keras.callbacks.EarlyStopping(patience=4, restore_best_weights=True)\n",
    "\n",
    "history1 = model1.fit(X_train_scaled, y_train, epochs=25\n",
    "                     ,validation_data=(X_valid_scaled, y_valid),callbacks=[callback])\n"
   ]
  },
  {
   "cell_type": "code",
   "execution_count": 23,
   "id": "f8a39af4",
   "metadata": {},
   "outputs": [
    {
     "data": {
      "image/png": "[encoded data removed]",
      "text/plain": [
       "<Figure size 400x200 with 1 Axes>"
      ]
     },
     "metadata": {},
     "output_type": "display_data"
    }
   ],
   "source": [
    "import pandas as pd\n",
    "import matplotlib.pyplot as plt\n",
    "df= pd.DataFrame(history1.history)\n",
    "ind=[1,3]\n",
    "df.iloc[:,ind].plot(figsize=(4, 2))\n",
    "\n",
    "plt.show()"
   ]
  },
  {
   "cell_type": "code",
   "execution_count": 24,
   "id": "4839f3b1",
   "metadata": {},
   "outputs": [
    {
     "data": {
      "image/png": "[encoded data removed]",
      "text/plain": [
       "<Figure size 800x500 with 1 Axes>"
      ]
     },
     "metadata": {},
     "output_type": "display_data"
    }
   ],
   "source": [
    "df= pd.DataFrame(history1.history)\n",
    "ind=[1,3]\n",
    "df.iloc[:,ind].plot(figsize=(8, 5))\n",
    "plt.title('Model Accuracy')\n",
    " # Set x-ticks to be the epoch numbers\n",
    "plt.ylim(0, 1)  # Set y-limits from 0 to 1\n",
    "plt.legend()\n",
    "plt.grid()\n",
    "plt.show()"
   ]
  },
  {
   "cell_type": "code",
   "execution_count": 25,
   "id": "b4df709d",
   "metadata": {},
   "outputs": [
    {
     "name": "stdout",
     "output_type": "stream",
     "text": [
      "\u001b[1m13/13\u001b[0m \u001b[32m━━━━━━━━━━━━━━━━━━━━\u001b[0m\u001b[37m\u001b[0m \u001b[1m3s\u001b[0m 171ms/step - accuracy: 0.4844 - loss: 0.9407\n"
     ]
    },
    {
     "data": {
      "text/plain": [
       "[0.9022829532623291, 0.5037037134170532]"
      ]
     },
     "execution_count": 25,
     "metadata": {},
     "output_type": "execute_result"
    }
   ],
   "source": [
    "model1.evaluate(X_test, y_test)"
   ]
  },
  {
   "cell_type": "code",
   "execution_count": null,
   "id": "0b0ef29c",
   "metadata": {},
   "outputs": [],
   "source": []
  }
 ],
 "metadata": {
  "kernelspec": {
   "display_name": "Python 3 (ipykernel)",
   "language": "python",
   "name": "python3"
  },
  "language_info": {
   "codemirror_mode": {
    "name": "ipython",
    "version": 3
   },
   "file_extension": ".py",
   "mimetype": "text/x-python",
   "name": "python",
   "nbconvert_exporter": "python",
   "pygments_lexer": "ipython3",
   "version": "3.11.4"
  }
 },
 "nbformat": 4,
 "nbformat_minor": 5
}
